{
 "cells": [
  {
   "cell_type": "code",
   "execution_count": 6,
   "metadata": {},
   "outputs": [],
   "source": [
    "# Modify G-code for video.\n",
    "import re\n",
    "import os\n",
    "import sys"
   ]
  },
  {
   "cell_type": "code",
   "execution_count": 10,
   "metadata": {},
   "outputs": [
    {
     "name": "stdout",
     "output_type": "stream",
     "text": [
      "26501 lines of gcode read.\n"
     ]
    }
   ],
   "source": [
    "# Load G-code\n",
    "data_path = \"../gcode\"\n",
    "filename = \"android_original.g\"\n",
    "export_name = \"android_modified.g\"\n",
    "\n",
    "with open(os.path.join(data_path, filename), \"r\") as f:\n",
    "    all_gcode_str = f.read()\n",
    "\n",
    "all_gcode_lines = all_gcode_str.split(\"\\n\")\n",
    "print(\"{:d} lines of gcode read.\".format(len(all_gcode_lines)))"
   ]
  },
  {
   "cell_type": "code",
   "execution_count": 11,
   "metadata": {},
   "outputs": [
    {
     "name": "stdout",
     "output_type": "stream",
     "text": [
      "28 layers modified.\n"
     ]
    }
   ],
   "source": [
    "# Search for layers. \n",
    "\n",
    "# Settings.\n",
    "retraction_length = -3\n",
    "y_position = 55  # Modify this w.r.t your 3D printer's model.\n",
    "z_hop_distance = 2\n",
    "extra_gcode_template = (\"\\n;\" + \"#\"*20 + \"\\n\"\n",
    "                        + \"G1 E{:.4f} F2100\\n\"\n",
    "                        + \"G1 Z{:.3f} F420\\n\"\n",
    "                        + \"G28 X\\n\"\n",
    "                        + \"G1 Y{:d} F6000\\n\"\n",
    "                        + \"G4 P5000\\n\" \n",
    "                        + \";\" + \"#\"*20)\n",
    "\n",
    "re_set_e = re.compile(\"G1.*?E(?P<e>[0-9|\\.]+)\")\n",
    "re_set_z = re.compile(\"G1 Z(?P<z>[0-9|\\.]+)\")\n",
    "re_layer = re.compile(\";layer:.*|;end gcode\")\n",
    "\n",
    "idx_layer = 0\n",
    "idx_gcode_last_layer = 0\n",
    "for idx_gcode, gcode in enumerate(all_gcode_lines):\n",
    "    \n",
    "    # Match layer start.\n",
    "    re_layer_result = re_layer.match(gcode)\n",
    "    if re_layer_result is None:\n",
    "        continue\n",
    "    \n",
    "    # Layer found.\n",
    "    idx_layer += 1\n",
    "    e_position = None\n",
    "    z_position = None\n",
    "    \n",
    "    # Search up for E and Z.\n",
    "    for idx_search in range(idx_gcode, idx_gcode_last_layer, -1):\n",
    "        \n",
    "        re_result_e = re_set_e.match(all_gcode_lines[idx_search])\n",
    "        re_result_z = re_set_z.match(all_gcode_lines[idx_search])\n",
    "        \n",
    "        # Get E.\n",
    "        if (e_position is None) and (re_result_e is not None):\n",
    "            e_position = float(re_result_e.group(\"e\"))\n",
    "        \n",
    "        # Get Z.\n",
    "        if (z_position is None) and (re_result_z is not None):\n",
    "            z_position = float(re_result_z.group(\"z\"))\n",
    "        \n",
    "        if (e_position is not None) and (z_position is not None):\n",
    "            break\n",
    "    \n",
    "    # Sanity check.\n",
    "    if (e_position is None) or (z_position is None):\n",
    "        print(\"ERROR: failed to find E or Z.\")\n",
    "        break\n",
    "    \n",
    "    # Add gcode. \n",
    "    all_gcode_lines[idx_gcode] += extra_gcode_template.format(\n",
    "        e_position + retraction_length, z_position + z_hop_distance, y_position)\n",
    "print(\"{} layers modified.\".format(idx_layer))"
   ]
  },
  {
   "cell_type": "code",
   "execution_count": 9,
   "metadata": {},
   "outputs": [],
   "source": [
    "# Export gcode.\n",
    "with open(os.path.join(data_path, export_name), \"w\") as f:\n",
    "    f.write(\"\\n\".join(all_gcode_lines))"
   ]
  },
  {
   "cell_type": "code",
   "execution_count": null,
   "metadata": {},
   "outputs": [],
   "source": []
  }
 ],
 "metadata": {
  "kernelspec": {
   "display_name": "Python 3",
   "language": "python",
   "name": "python3"
  },
  "language_info": {
   "codemirror_mode": {
    "name": "ipython",
    "version": 3
   },
   "file_extension": ".py",
   "mimetype": "text/x-python",
   "name": "python",
   "nbconvert_exporter": "python",
   "pygments_lexer": "ipython3",
   "version": "3.6.13"
  }
 },
 "nbformat": 4,
 "nbformat_minor": 4
}
